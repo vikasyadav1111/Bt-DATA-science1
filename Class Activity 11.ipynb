{
 "cells": [
  {
   "cell_type": "code",
   "execution_count": 4,
   "id": "6ec403f1",
   "metadata": {},
   "outputs": [],
   "source": [
    "import cv2\n",
    "# Define a object to accesss the webcam\n",
    "ob = cv2.VideoCapture(0)\n",
    "\n",
    "#Check if the camera opened successfully\n",
    "if not ob.isOpened():\n",
    "    print(\"Error\")\n",
    "    exit()\n",
    "    \n",
    "background = None\n",
    "accumulated_weight = 0.5\n",
    "gesture_flag = False\n",
    "\n",
    "#Loop to continuously capture and process video\n",
    "while True:\n",
    "    ret, frame = ob.read()\n",
    "    \n",
    "    if not ret:\n",
    "        print(\"Error: Could not read a frame.\")\n",
    "        break\n",
    "        \n",
    "    # Convert the frame to grayscale\n",
    "    gray_frame = cv2.cvtColor(frame, cv2.COLOR_BGR2GRAY)\n",
    "    gray_frame = cv2.GaussianBlur(gray_frame,(21,21),0)\n",
    "    \n",
    "    if background is None:\n",
    "        background = gray_frame.copy().astype(\"float\")\n",
    "        continue\n",
    "        \n",
    "    #Calculate the absolute difference between the current frame and the background\n",
    "    cv2.accumulateWeighted(gray_frame, background, accumulated_weight)\n",
    "    frame_delta = cv2.absdiff(gray_frame, cv2.convertScaleAbs(background))\n",
    "    \n",
    "    #Apply thresholding to the frame\n",
    "    thresh = cv2.threshold(frame_delta, 25, 255, cv2.THRESH_BINARY)[1]\n",
    "    thresh = cv2.dilate(thresh, None, iterations=2)\n",
    "    \n",
    "    #Find contours in the threshold image\n",
    "    contours, _ = cv2.findContours(thresh.copy(),cv2.RETR_EXTERNAL, cv2.CHAIN_APPROX_SIMPLE)\n",
    "    \n",
    "    for contour in contours:\n",
    "        if cv2.contourArea(contour) < 1000: #Adjust the area threshold as needed\n",
    "            continue\n",
    "            \n",
    "        #gesture recognition by movement\n",
    "        (x,y,w,h) = cv2.boundingRect(contour)\n",
    "        cv2.rectangle(frame,(x,y),(x+w,y+h),(0,255,0),2)\n",
    "        gesture_flag = True\n",
    "        \n",
    "    #Display frame in a window\n",
    "    cv2.imshow(\"Video\",frame)\n",
    "    \n",
    "    if cv2.waitKey(1) & 0xFF == ord('q'):\n",
    "        break\n",
    "#close the window\n",
    "ob.release()\n",
    "cv2.destroyAllWindows()"
   ]
  },
  {
   "cell_type": "code",
   "execution_count": null,
   "id": "cb3d4c94",
   "metadata": {},
   "outputs": [],
   "source": []
  }
 ],
 "metadata": {
  "kernelspec": {
   "display_name": "Python 3 (ipykernel)",
   "language": "python",
   "name": "python3"
  },
  "language_info": {
   "codemirror_mode": {
    "name": "ipython",
    "version": 3
   },
   "file_extension": ".py",
   "mimetype": "text/x-python",
   "name": "python",
   "nbconvert_exporter": "python",
   "pygments_lexer": "ipython3",
   "version": "3.11.3"
  }
 },
 "nbformat": 4,
 "nbformat_minor": 5
}
