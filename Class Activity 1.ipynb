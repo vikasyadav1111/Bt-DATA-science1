{
 "cells": [
  {
   "cell_type": "code",
   "execution_count": 7,
   "id": "6fbf5315",
   "metadata": {},
   "outputs": [],
   "source": [
    "#Class activity\n",
    "def logistics_provider():\n",
    "    print(\"Enter 1 for milk\")\n",
    "    print(\"Enter 2 for cookies\")\n",
    "    a = int(input(\"Enter the value \"))\n",
    "    if a==1:\n",
    "        print(\"You have allocated milk\")\n",
    "    elif a==2:\n",
    "        print(\"You have allocated cookies\")"
   ]
  },
  {
   "cell_type": "code",
   "execution_count": 8,
   "id": "d21d68e9",
   "metadata": {},
   "outputs": [
    {
     "name": "stdout",
     "output_type": "stream",
     "text": [
      "Enter 1 for milk\n",
      "Enter 2 for cookies\n",
      "Enter the value 2\n",
      "You have allocated cookies\n"
     ]
    }
   ],
   "source": [
    "logistics_provider()"
   ]
  },
  {
   "cell_type": "code",
   "execution_count": 10,
   "id": "7da62ba6",
   "metadata": {},
   "outputs": [
    {
     "name": "stdout",
     "output_type": "stream",
     "text": [
      "The name is  Victor\n",
      "The age is  20\n",
      "The major is  CSE\n"
     ]
    }
   ],
   "source": [
    "#Dictionary in python\n",
    "student = { \"name\":\"Victor\",\"age\":20,\"major\":\"CSE\"}\n",
    "\n",
    "print(\"The name is \",student[\"name\"])\n",
    "print(\"The age is \",student[\"age\"])\n",
    "print(\"The major is \",student[\"major\"])"
   ]
  },
  {
   "cell_type": "code",
   "execution_count": 12,
   "id": "0bd8e8f0",
   "metadata": {},
   "outputs": [
    {
     "name": "stdout",
     "output_type": "stream",
     "text": [
      "The updated dictionary is  {'name': 'Victor', 'age': 21, 'major': 'CSE'}\n"
     ]
    }
   ],
   "source": [
    "student[\"age\"] = 21\n",
    "print(\"The updated dictionary is \",student)"
   ]
  },
  {
   "cell_type": "code",
   "execution_count": 13,
   "id": "f4c02481",
   "metadata": {},
   "outputs": [],
   "source": [
    "market = {1:\"Milk\",2:\"Cookies\",3:\"Banana\",4:\"Apples\"}"
   ]
  },
  {
   "cell_type": "code",
   "execution_count": 15,
   "id": "ceed0a74",
   "metadata": {},
   "outputs": [
    {
     "name": "stdout",
     "output_type": "stream",
     "text": [
      "Enter any value 3\n",
      "Banana\n"
     ]
    }
   ],
   "source": [
    "b = int(input(\"Enter any value \"))\n",
    "print(market[b])"
   ]
  },
  {
   "cell_type": "code",
   "execution_count": 16,
   "id": "7c9f5c72",
   "metadata": {},
   "outputs": [
    {
     "data": {
      "text/plain": [
       "['A', 'B', 'C', 'D']"
      ]
     },
     "execution_count": 16,
     "metadata": {},
     "output_type": "execute_result"
    }
   ],
   "source": [
    "#Using List in Python\n",
    "data = ['A','B','C','D']\n",
    "data"
   ]
  },
  {
   "cell_type": "code",
   "execution_count": 17,
   "id": "6049ac43",
   "metadata": {},
   "outputs": [],
   "source": [
    "data.append('E')"
   ]
  },
  {
   "cell_type": "code",
   "execution_count": 18,
   "id": "98145aec",
   "metadata": {},
   "outputs": [
    {
     "data": {
      "text/plain": [
       "['A', 'B', 'C', 'D', 'E']"
      ]
     },
     "execution_count": 18,
     "metadata": {},
     "output_type": "execute_result"
    }
   ],
   "source": [
    "data"
   ]
  },
  {
   "cell_type": "code",
   "execution_count": 20,
   "id": "6f2593a8",
   "metadata": {},
   "outputs": [
    {
     "data": {
      "text/plain": [
       "'E'"
      ]
     },
     "execution_count": 20,
     "metadata": {},
     "output_type": "execute_result"
    }
   ],
   "source": [
    "data.pop()"
   ]
  },
  {
   "cell_type": "code",
   "execution_count": 30,
   "id": "262fde62",
   "metadata": {},
   "outputs": [],
   "source": [
    "import numpy as np"
   ]
  },
  {
   "cell_type": "code",
   "execution_count": 31,
   "id": "fcaebf0c",
   "metadata": {},
   "outputs": [],
   "source": [
    "arr = a.array([1,2,3,4,5])\n",
    "squared = arr **2"
   ]
  },
  {
   "cell_type": "code",
   "execution_count": 32,
   "id": "ee415ca3",
   "metadata": {},
   "outputs": [
    {
     "data": {
      "text/plain": [
       "array([ 1,  4,  9, 16, 25])"
      ]
     },
     "execution_count": 32,
     "metadata": {},
     "output_type": "execute_result"
    }
   ],
   "source": [
    "squared"
   ]
  },
  {
   "cell_type": "code",
   "execution_count": 34,
   "id": "5a73b1e3",
   "metadata": {},
   "outputs": [],
   "source": [
    "mean = np.mean(arr)"
   ]
  },
  {
   "cell_type": "code",
   "execution_count": 38,
   "id": "8128674c",
   "metadata": {},
   "outputs": [
    {
     "data": {
      "text/plain": [
       "'Victor'"
      ]
     },
     "execution_count": 38,
     "metadata": {},
     "output_type": "execute_result"
    }
   ],
   "source": [
    "#File Handling in Python\n",
    "with open(\"note.txt\",\"r\") as file:\n",
    "    data= file.read()\n",
    "data"
   ]
  },
  {
   "cell_type": "code",
   "execution_count": 39,
   "id": "58d80c87",
   "metadata": {},
   "outputs": [
    {
     "name": "stdout",
     "output_type": "stream",
     "text": [
      "File processing completed.\n"
     ]
    }
   ],
   "source": [
    "processed_data = data.upper()\n",
    "with open(\"processed_data.txt\",\"w\") as file:\n",
    "    file.write(processed_data)\n",
    "print(\"File processing completed.\")"
   ]
  },
  {
   "cell_type": "code",
   "execution_count": null,
   "id": "46084d9f",
   "metadata": {},
   "outputs": [],
   "source": []
  }
 ],
 "metadata": {
  "kernelspec": {
   "display_name": "Python 3 (ipykernel)",
   "language": "python",
   "name": "python3"
  },
  "language_info": {
   "codemirror_mode": {
    "name": "ipython",
    "version": 3
   },
   "file_extension": ".py",
   "mimetype": "text/x-python",
   "name": "python",
   "nbconvert_exporter": "python",
   "pygments_lexer": "ipython3",
   "version": "3.11.3"
  }
 },
 "nbformat": 4,
 "nbformat_minor": 5
}
