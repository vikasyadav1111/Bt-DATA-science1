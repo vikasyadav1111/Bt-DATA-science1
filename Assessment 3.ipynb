{
 "cells": [
  {
   "cell_type": "markdown",
   "id": "f2b8bde0",
   "metadata": {},
   "source": [
    "# PCA (Principal Component Analysis)"
   ]
  },
  {
   "cell_type": "markdown",
   "id": "504b9201",
   "metadata": {},
   "source": [
    "We will be importing the necessary packages"
   ]
  },
  {
   "cell_type": "code",
   "execution_count": 1,
   "id": "dec48ed4",
   "metadata": {},
   "outputs": [],
   "source": [
    "import numpy as np\n",
    "import pandas as pd\n",
    "import matplotlib.pyplot as plt\n",
    "import seaborn as sns"
   ]
  },
  {
   "cell_type": "markdown",
   "id": "6fd81f10",
   "metadata": {},
   "source": [
    "We will create our dataset"
   ]
  },
  {
   "cell_type": "code",
   "execution_count": 26,
   "id": "8da4e05c",
   "metadata": {
    "scrolled": true
   },
   "outputs": [
    {
     "data": {
      "text/plain": [
       "array([[0.42009593, 0.35995171],\n",
       "       [0.44335604, 0.94493754],\n",
       "       [0.99993589, 0.77775391],\n",
       "       [0.45952757, 0.19161357],\n",
       "       [0.4282251 , 0.35887734],\n",
       "       [0.38533531, 0.15354314],\n",
       "       [0.17376034, 0.1789493 ],\n",
       "       [0.8225427 , 0.44770661],\n",
       "       [0.01419594, 0.39574667],\n",
       "       [0.85494196, 0.0638649 ],\n",
       "       [0.84138957, 0.09719995],\n",
       "       [0.7900143 , 0.89741217],\n",
       "       [0.35585119, 0.8868105 ],\n",
       "       [0.45555463, 0.84288267],\n",
       "       [0.01249019, 0.61355153],\n",
       "       [0.75817555, 0.19269295],\n",
       "       [0.6977891 , 0.78046191],\n",
       "       [0.03813572, 0.33822434],\n",
       "       [0.25952524, 0.26385608],\n",
       "       [0.71120454, 0.9382187 ],\n",
       "       [0.49964051, 0.13842599],\n",
       "       [0.15900298, 0.8201706 ],\n",
       "       [0.75372185, 0.8911522 ],\n",
       "       [0.82597926, 0.99434523],\n",
       "       [0.47797582, 0.86973099],\n",
       "       [0.2039888 , 0.70542593],\n",
       "       [0.97984999, 0.28745756],\n",
       "       [0.29977141, 0.39710166],\n",
       "       [0.56478761, 0.30173662],\n",
       "       [0.37708449, 0.4385087 ],\n",
       "       [0.3822028 , 0.62109539],\n",
       "       [0.30574263, 0.0317938 ],\n",
       "       [0.98576017, 0.72163742],\n",
       "       [0.80525176, 0.03395044],\n",
       "       [0.81759733, 0.86829071],\n",
       "       [0.73435331, 0.6941002 ],\n",
       "       [0.33590966, 0.44013742],\n",
       "       [0.91120899, 0.65652023],\n",
       "       [0.01599062, 0.55944504],\n",
       "       [0.83161044, 0.2515172 ],\n",
       "       [0.42891424, 0.7584135 ],\n",
       "       [0.88085022, 0.31858524],\n",
       "       [0.01289219, 0.20628921],\n",
       "       [0.74485306, 0.98521918],\n",
       "       [0.79034939, 0.87264463],\n",
       "       [0.85533977, 0.24931955],\n",
       "       [0.3002011 , 0.57705912],\n",
       "       [0.13106871, 0.16958039],\n",
       "       [0.8065239 , 0.21403239],\n",
       "       [0.00754578, 0.26147068],\n",
       "       [0.26679947, 0.62778611],\n",
       "       [0.47761779, 0.01758145],\n",
       "       [0.86816825, 0.20622054],\n",
       "       [0.00148216, 0.05866413],\n",
       "       [0.40053652, 0.31391878],\n",
       "       [0.74667321, 0.24092705],\n",
       "       [0.95871345, 0.69208313],\n",
       "       [0.22383486, 0.18843139],\n",
       "       [0.61834956, 0.13476881],\n",
       "       [0.57147225, 0.62968857],\n",
       "       [0.34738787, 0.68530441],\n",
       "       [0.39245256, 0.89902799],\n",
       "       [0.84009588, 0.74614308],\n",
       "       [0.20066636, 0.07938379],\n",
       "       [0.42618909, 0.46919894],\n",
       "       [0.65828352, 0.87591884],\n",
       "       [0.96543478, 0.0459717 ],\n",
       "       [0.42449708, 0.97469493],\n",
       "       [0.10492135, 0.61363078],\n",
       "       [0.32188369, 0.05902778],\n",
       "       [0.39076183, 0.27024789],\n",
       "       [0.31245409, 0.0345927 ],\n",
       "       [0.68866662, 0.44076729],\n",
       "       [0.89289891, 0.04747883],\n",
       "       [0.51449166, 0.54298461],\n",
       "       [0.79305738, 0.43107468],\n",
       "       [0.63202976, 0.30792463],\n",
       "       [0.60129802, 0.04594586],\n",
       "       [0.56260379, 0.09891664],\n",
       "       [0.65963384, 0.5947992 ],\n",
       "       [0.32362675, 0.010728  ],\n",
       "       [0.81580335, 0.10592452],\n",
       "       [0.9637688 , 0.32529633],\n",
       "       [0.60634132, 0.99205997],\n",
       "       [0.79502603, 0.58218601],\n",
       "       [0.30944529, 0.78634964],\n",
       "       [0.99863308, 0.40646517],\n",
       "       [0.83444122, 0.09729772],\n",
       "       [0.67003389, 0.7688245 ],\n",
       "       [0.64849973, 0.66285423],\n",
       "       [0.48393685, 0.02834182],\n",
       "       [0.53862462, 0.3577956 ],\n",
       "       [0.10621039, 0.38305067],\n",
       "       [0.0637858 , 0.86653172],\n",
       "       [0.14624203, 0.79767606],\n",
       "       [0.98403198, 0.79372696],\n",
       "       [0.31148117, 0.87446225],\n",
       "       [0.2254666 , 0.64905709],\n",
       "       [0.6512402 , 0.916646  ],\n",
       "       [0.62291126, 0.68493865]])"
      ]
     },
     "execution_count": 26,
     "metadata": {},
     "output_type": "execute_result"
    }
   ],
   "source": [
    "data = np.random.rand(100,2)\n",
    "data"
   ]
  },
  {
   "cell_type": "markdown",
   "id": "d6dbf814",
   "metadata": {},
   "source": [
    "We will now apply the PCA algorithm to the data"
   ]
  },
  {
   "cell_type": "code",
   "execution_count": 27,
   "id": "7ddb2885",
   "metadata": {
    "scrolled": true
   },
   "outputs": [
    {
     "data": {
      "text/plain": [
       "array([[-0.14569243],\n",
       "       [ 0.41357747],\n",
       "       [ 0.44152681],\n",
       "       [-0.29125205],\n",
       "       [-0.14399501],\n",
       "       [-0.35188038],\n",
       "       [-0.39846831],\n",
       "       [ 0.07121973],\n",
       "       [-0.24727518],\n",
       "       [-0.27985767],\n",
       "       [-0.2529484 ],\n",
       "       [ 0.48434941],\n",
       "       [ 0.3296016 ],\n",
       "       [ 0.32142893],\n",
       "       [-0.04250112],\n",
       "       [-0.19066328],\n",
       "       [ 0.3433422 ],\n",
       "       [-0.29352459],\n",
       "       [-0.28982506],\n",
       "       [ 0.49654545],\n",
       "       [-0.32802249],\n",
       "       [ 0.20114417],\n",
       "       [ 0.46634749],\n",
       "       [ 0.58772723],\n",
       "       [ 0.35421645],\n",
       "       [ 0.10796338],\n",
       "       [-0.02741314],\n",
       "       [-0.15078504],\n",
       "       [-0.15233551],\n",
       "       [-0.0859705 ],\n",
       "       [ 0.08787564],\n",
       "       [-0.49320032],\n",
       "       [ 0.38389484],\n",
       "       [-0.32462755],\n",
       "       [ 0.46609055],\n",
       "       [ 0.27411257],\n",
       "       [-0.09816293],\n",
       "       [ 0.29764761],\n",
       "       [-0.09234475],\n",
       "       [-0.11072111],\n",
       "       [ 0.23291074],\n",
       "       [-0.03107364],\n",
       "       [-0.42632717],\n",
       "       [ 0.55207535],\n",
       "       [ 0.46111071],\n",
       "       [-0.10488151],\n",
       "       [ 0.01901909],\n",
       "       [-0.42153483],\n",
       "       [-0.15442517],\n",
       "       [-0.37608553],\n",
       "       [ 0.05570733],\n",
       "       [-0.44929521],\n",
       "       [-0.14123743],\n",
       "       [-0.56930979],\n",
       "       [-0.19561273],\n",
       "       [-0.14902394],\n",
       "       [ 0.34701401],\n",
       "       [-0.3728336 ],\n",
       "       [-0.29189207],\n",
       "       [ 0.15908078],\n",
       "       [ 0.13680331],\n",
       "       [ 0.35332316],\n",
       "       [ 0.35843297],\n",
       "       [-0.48336637],\n",
       "       [-0.04066448],\n",
       "       [ 0.42016598],\n",
       "       [-0.25988807],\n",
       "       [ 0.43534454],\n",
       "       [-0.01160927],\n",
       "       [-0.46214304],\n",
       "       [-0.24004386],\n",
       "       [-0.48832392],\n",
       "       [ 0.02004232],\n",
       "       [-0.28265109],\n",
       "       [ 0.05834006],\n",
       "       [ 0.04570884],\n",
       "       [-0.1240826 ],\n",
       "       [-0.38131794],\n",
       "       [-0.34427888],\n",
       "       [ 0.15558131],\n",
       "       [-0.50709812],\n",
       "       [-0.25325363],\n",
       "       [ 0.00289905],\n",
       "       [ 0.51234403],\n",
       "       [ 0.18883042],\n",
       "       [ 0.21941675],\n",
       "       [ 0.09104764],\n",
       "       [-0.25517285],\n",
       "       [ 0.32311688],\n",
       "       [ 0.21603026],\n",
       "       [-0.4370437 ],\n",
       "       [-0.10820696],\n",
       "       [-0.22856656],\n",
       "       [ 0.21310665],\n",
       "       [ 0.17568211],\n",
       "       [ 0.45128346],\n",
       "       [ 0.30316662],\n",
       "       [ 0.06198062],\n",
       "       [ 0.45621458],\n",
       "       [ 0.22831973]])"
      ]
     },
     "execution_count": 27,
     "metadata": {},
     "output_type": "execute_result"
    }
   ],
   "source": [
    "from sklearn.decomposition import PCA\n",
    "\n",
    "pca = PCA(n_components = 1) # By 1 we mean our data will be converted to a 1-D data\n",
    "transformed_data = pca.fit_transform(data)\n",
    "transformed_data\n"
   ]
  },
  {
   "cell_type": "code",
   "execution_count": 28,
   "id": "2fca701d",
   "metadata": {
    "scrolled": true
   },
   "outputs": [
    {
     "data": {
      "text/plain": [
       "array([[ 0.48253443,  0.33787092],\n",
       "       [ 0.66899857,  0.8651412 ],\n",
       "       [ 0.67831706,  0.89149137],\n",
       "       [ 0.43400393,  0.20063976],\n",
       "       [ 0.48310036,  0.33947122],\n",
       "       [ 0.41379006,  0.14348039],\n",
       "       [ 0.39825735,  0.09955806],\n",
       "       [ 0.55485433,  0.54237207],\n",
       "       [ 0.4486661 ,  0.24210041],\n",
       "       [ 0.43780289,  0.21138218],\n",
       "       [ 0.44677461,  0.23675179],\n",
       "       [ 0.69259439,  0.9318638 ],\n",
       "       [ 0.64100048,  0.78597016],\n",
       "       [ 0.63827566,  0.7782651 ],\n",
       "       [ 0.51693907,  0.43515796],\n",
       "       [ 0.46754086,  0.29547316],\n",
       "       [ 0.64558169,  0.79892457],\n",
       "       [ 0.43324625,  0.19849724],\n",
       "       [ 0.4344797 ,  0.2019851 ],\n",
       "       [ 0.69666063,  0.94336202],\n",
       "       [ 0.42174443,  0.1659732 ],\n",
       "       [ 0.59817196,  0.66486265],\n",
       "       [ 0.68659243,  0.91489189],\n",
       "       [ 0.72706121,  1.02932667],\n",
       "       [ 0.64920723,  0.80917662],\n",
       "       [ 0.56710489,  0.57701336],\n",
       "       [ 0.5219695 ,  0.44938266],\n",
       "       [ 0.48083653,  0.3330697 ],\n",
       "       [ 0.48031959,  0.33160794],\n",
       "       [ 0.5024461 ,  0.39417576],\n",
       "       [ 0.56040751,  0.55807498],\n",
       "       [ 0.36667309,  0.01024632],\n",
       "       [ 0.6591022 ,  0.83715692],\n",
       "       [ 0.42287633,  0.16917389],\n",
       "       [ 0.68650677,  0.91464965],\n",
       "       [ 0.62250009,  0.73365603],\n",
       "       [ 0.49838107,  0.38268094],\n",
       "       [ 0.63034682,  0.75584448],\n",
       "       [ 0.50032089,  0.38816623],\n",
       "       [ 0.49419409,  0.3708413 ],\n",
       "       [ 0.60876314,  0.69481164],\n",
       "       [ 0.52074907,  0.4459316 ],\n",
       "       [ 0.38896903,  0.0732932 ],\n",
       "       [ 0.71517465,  0.99571467],\n",
       "       [ 0.68484646,  0.90995474],\n",
       "       [ 0.49614105,  0.37634677],\n",
       "       [ 0.5374503 ,  0.49315818],\n",
       "       [ 0.39056682,  0.07781134],\n",
       "       [ 0.47962288,  0.32963784],\n",
       "       [ 0.40571991,  0.12066017],\n",
       "       [ 0.54968239,  0.52774724],\n",
       "       [ 0.38131133,  0.05163932],\n",
       "       [ 0.48401976,  0.34207102],\n",
       "       [ 0.34129771, -0.06150842],\n",
       "       [ 0.46589069,  0.2908069 ],\n",
       "       [ 0.48142369,  0.33473003],\n",
       "       [ 0.64680589,  0.80238628],\n",
       "       [ 0.40680412,  0.12372604],\n",
       "       [ 0.43379054,  0.20003636],\n",
       "       [ 0.58414776,  0.62520599],\n",
       "       [ 0.57672031,  0.60420316],\n",
       "       [ 0.6489094 ,  0.80833445],\n",
       "       [ 0.65061305,  0.81315189],\n",
       "       [ 0.36995179,  0.0195176 ],\n",
       "       [ 0.51755142,  0.43688952],\n",
       "       [ 0.67119523,  0.87135274],\n",
       "       [ 0.44446088,  0.23020919],\n",
       "       [ 0.67625585,  0.88566283],\n",
       "       [ 0.52723861,  0.46428228],\n",
       "       [ 0.37702779,  0.0395266 ],\n",
       "       [ 0.45107707,  0.24891798],\n",
       "       [ 0.36829892,  0.01484371],\n",
       "       [ 0.53779145,  0.49412286],\n",
       "       [ 0.43687154,  0.20874859],\n",
       "       [ 0.55056016,  0.53022933],\n",
       "       [ 0.54634883,  0.51832082],\n",
       "       [ 0.48973929,  0.35824431],\n",
       "       [ 0.40397539,  0.11572714],\n",
       "       [ 0.41632445,  0.15064695],\n",
       "       [ 0.58298101,  0.62190675],\n",
       "       [ 0.36203948, -0.0028563 ],\n",
       "       [ 0.44667284,  0.23646403],\n",
       "       [ 0.53207578,  0.47796048],\n",
       "       [ 0.70192797,  0.95825666],\n",
       "       [ 0.59406648,  0.65325345],\n",
       "       [ 0.60426416,  0.68208974],\n",
       "       [ 0.56146508,  0.56106549],\n",
       "       [ 0.44603297,  0.23465462],\n",
       "       [ 0.63883844,  0.77985648],\n",
       "       [ 0.60313508,  0.67889701],\n",
       "       [ 0.38539607,  0.06318984],\n",
       "       [ 0.49503233,  0.3732116 ],\n",
       "       [ 0.45490367,  0.25973859],\n",
       "       [ 0.60216033,  0.67614067],\n",
       "       [ 0.58968275,  0.64085745],\n",
       "       [ 0.68156999,  0.90068978],\n",
       "       [ 0.6321869 ,  0.76104771],\n",
       "       [ 0.55177395,  0.53366159],\n",
       "       [ 0.68321406,  0.90533875],\n",
       "       [ 0.60723246,  0.69048331]])"
      ]
     },
     "execution_count": 28,
     "metadata": {},
     "output_type": "execute_result"
    }
   ],
   "source": [
    "inverse_transformed = pca.inverse_transform(transformed_data)\n",
    "inverse_transformed"
   ]
  },
  {
   "cell_type": "code",
   "execution_count": 29,
   "id": "99537553",
   "metadata": {},
   "outputs": [
    {
     "data": {
      "image/png": "[encoded data removed]",
      "text/plain": [
       "<Figure size 800x400 with 2 Axes>"
      ]
     },
     "metadata": {},
     "output_type": "display_data"
    }
   ],
   "source": [
    "plt.figure(figsize=(8,4))\n",
    "plt.subplot(1,2,1)\n",
    "#Original Data\n",
    "plt.scatter(data[:,0],data[:,1])\n",
    "plt.subplot(1,2,2)\n",
    "#Inverse Transformed Data\n",
    "plt.scatter(inverse_transformed[:,0],inverse_transformed[:,1])\n",
    "plt.show()"
   ]
  },
  {
   "cell_type": "markdown",
   "id": "4ff5f4da",
   "metadata": {},
   "source": [
    "# K mean "
   ]
  },
  {
   "cell_type": "code",
   "execution_count": 30,
   "id": "c3f9fc50",
   "metadata": {},
   "outputs": [],
   "source": [
    "from sklearn.cluster import KMeans"
   ]
  },
  {
   "cell_type": "code",
   "execution_count": 31,
   "id": "efe70294",
   "metadata": {
    "scrolled": true
   },
   "outputs": [
    {
     "data": {
      "text/plain": [
       "array([[0.04871688, 0.00495494],\n",
       "       [0.23979602, 0.28302879],\n",
       "       [0.28465097, 0.6121284 ],\n",
       "       [0.02331486, 0.43707909],\n",
       "       [0.04934078, 0.99928314],\n",
       "       [0.901336  , 0.77713177],\n",
       "       [0.87296091, 0.96272954],\n",
       "       [0.14302309, 0.79747275],\n",
       "       [0.89934504, 0.00284558],\n",
       "       [0.86965594, 0.74260858],\n",
       "       [0.96427701, 0.02661335],\n",
       "       [0.68352969, 0.17122647],\n",
       "       [0.15104733, 0.43813406],\n",
       "       [0.6867519 , 0.24820648],\n",
       "       [0.12620683, 0.79412979],\n",
       "       [0.55162291, 0.05146119],\n",
       "       [0.85319646, 0.91449913],\n",
       "       [0.01928654, 0.79377691],\n",
       "       [0.07864652, 0.86338535],\n",
       "       [0.01114698, 0.52894454],\n",
       "       [0.14952453, 0.94809641],\n",
       "       [0.75181315, 0.64459555],\n",
       "       [0.40036572, 0.93279154],\n",
       "       [0.8349859 , 0.62470562],\n",
       "       [0.69456964, 0.27083032],\n",
       "       [0.12529435, 0.69239428],\n",
       "       [0.44693703, 0.53530163],\n",
       "       [0.28367627, 0.11933125],\n",
       "       [0.07501744, 0.55429328],\n",
       "       [0.85078194, 0.06643476],\n",
       "       [0.04844879, 0.31549196],\n",
       "       [0.53688588, 0.29436609],\n",
       "       [0.87341757, 0.29705832],\n",
       "       [0.02203606, 0.18142337],\n",
       "       [0.52156777, 0.10624405],\n",
       "       [0.78099151, 0.35445388],\n",
       "       [0.47649563, 0.66366259],\n",
       "       [0.95669904, 0.42572318],\n",
       "       [0.73904125, 0.37984581],\n",
       "       [0.12471236, 0.38391199],\n",
       "       [0.70934639, 0.71622394],\n",
       "       [0.74991077, 0.22303992],\n",
       "       [0.78445156, 0.87042585],\n",
       "       [0.19859589, 0.0547356 ],\n",
       "       [0.12068738, 0.56670529],\n",
       "       [0.06119789, 0.1161595 ],\n",
       "       [0.72123387, 0.59080405],\n",
       "       [0.75859094, 0.92942574],\n",
       "       [0.89025053, 0.57347239],\n",
       "       [0.15944799, 0.75832842],\n",
       "       [0.31349989, 0.31019802],\n",
       "       [0.36584944, 0.83067012],\n",
       "       [0.04068275, 0.6747708 ],\n",
       "       [0.64668333, 0.85718142],\n",
       "       [0.25276688, 0.82819357],\n",
       "       [0.89621571, 0.7452988 ],\n",
       "       [0.61519732, 0.96698322],\n",
       "       [0.06986625, 0.38281592],\n",
       "       [0.51420581, 0.56513378],\n",
       "       [0.63134743, 0.23899345],\n",
       "       [0.80750056, 0.82858589],\n",
       "       [0.50448592, 0.88026794],\n",
       "       [0.67377281, 0.85450308],\n",
       "       [0.57905751, 0.94306233],\n",
       "       [0.7909399 , 0.79524417],\n",
       "       [0.39051314, 0.05049527],\n",
       "       [0.34166453, 0.25151767],\n",
       "       [0.6154884 , 0.79120179],\n",
       "       [0.52182928, 0.11606654],\n",
       "       [0.52611199, 0.61460247],\n",
       "       [0.49431027, 0.43533319],\n",
       "       [0.4417632 , 0.43517209],\n",
       "       [0.21724345, 0.66448437],\n",
       "       [0.60129035, 0.32160146],\n",
       "       [0.00863779, 0.62472298],\n",
       "       [0.85229854, 0.66684467],\n",
       "       [0.5111981 , 0.1033102 ],\n",
       "       [0.93009035, 0.04516411],\n",
       "       [0.69995914, 0.97525726],\n",
       "       [0.75639518, 0.06398301],\n",
       "       [0.88085315, 0.0015644 ],\n",
       "       [0.28569839, 0.43204324],\n",
       "       [0.73064448, 0.99956983],\n",
       "       [0.80035904, 0.14277545],\n",
       "       [0.04969662, 0.13029568],\n",
       "       [0.53456039, 0.19003037],\n",
       "       [0.54464356, 0.31676763],\n",
       "       [0.62102283, 0.6371144 ],\n",
       "       [0.56690372, 0.69845834],\n",
       "       [0.44718781, 0.90862542],\n",
       "       [0.85051617, 0.79290146],\n",
       "       [0.71350279, 0.34343872],\n",
       "       [0.27770849, 0.47926942],\n",
       "       [0.24965364, 0.62744458],\n",
       "       [0.68334342, 0.34611999],\n",
       "       [0.48593302, 0.42878248],\n",
       "       [0.33977754, 0.23529119],\n",
       "       [0.99693188, 0.35952504],\n",
       "       [0.43942906, 0.89198441],\n",
       "       [0.856409  , 0.91922082]])"
      ]
     },
     "execution_count": 31,
     "metadata": {},
     "output_type": "execute_result"
    }
   ],
   "source": [
    "data = np.random.rand(100,2)\n",
    "data"
   ]
  },
  {
   "cell_type": "code",
   "execution_count": 34,
   "id": "7b59899b",
   "metadata": {},
   "outputs": [
    {
     "name": "stderr",
     "output_type": "stream",
     "text": [
      "C:\\Users\\USER\\anaconda3\\Lib\\site-packages\\sklearn\\cluster\\_kmeans.py:870: FutureWarning: The default value of `n_init` will change from 10 to 'auto' in 1.4. Set the value of `n_init` explicitly to suppress the warning\n",
      "  warnings.warn(\n",
      "C:\\Users\\USER\\anaconda3\\Lib\\site-packages\\sklearn\\cluster\\_kmeans.py:1382: UserWarning: KMeans is known to have a memory leak on Windows with MKL, when there are less chunks than available threads. You can avoid it by setting the environment variable OMP_NUM_THREADS=1.\n",
      "  warnings.warn(\n"
     ]
    },
    {
     "data": {
      "text/html": [
       "<style>#sk-container-id-1 {color: black;background-color: white;}#sk-container-id-1 pre{padding: 0;}#sk-container-id-1 div.sk-toggleable {background-color: white;}#sk-container-id-1 label.sk-toggleable__label {cursor: pointer;display: block;width: 100%;margin-bottom: 0;padding: 0.3em;box-sizing: border-box;text-align: center;}#sk-container-id-1 label.sk-toggleable__label-arrow:before {content: \"▸\";float: left;margin-right: 0.25em;color: #696969;}#sk-container-id-1 label.sk-toggleable__label-arrow:hover:before {color: black;}#sk-container-id-1 div.sk-estimator:hover label.sk-toggleable__label-arrow:before {color: black;}#sk-container-id-1 div.sk-toggleable__content {max-height: 0;max-width: 0;overflow: hidden;text-align: left;background-color: #f0f8ff;}#sk-container-id-1 div.sk-toggleable__content pre {margin: 0.2em;color: black;border-radius: 0.25em;background-color: #f0f8ff;}#sk-container-id-1 input.sk-toggleable__control:checked~div.sk-toggleable__content {max-height: 200px;max-width: 100%;overflow: auto;}#sk-container-id-1 input.sk-toggleable__control:checked~label.sk-toggleable__label-arrow:before {content: \"▾\";}#sk-container-id-1 div.sk-estimator input.sk-toggleable__control:checked~label.sk-toggleable__label {background-color: #d4ebff;}#sk-container-id-1 div.sk-label input.sk-toggleable__control:checked~label.sk-toggleable__label {background-color: #d4ebff;}#sk-container-id-1 input.sk-hidden--visually {border: 0;clip: rect(1px 1px 1px 1px);clip: rect(1px, 1px, 1px, 1px);height: 1px;margin: -1px;overflow: hidden;padding: 0;position: absolute;width: 1px;}#sk-container-id-1 div.sk-estimator {font-family: monospace;background-color: #f0f8ff;border: 1px dotted black;border-radius: 0.25em;box-sizing: border-box;margin-bottom: 0.5em;}#sk-container-id-1 div.sk-estimator:hover {background-color: #d4ebff;}#sk-container-id-1 div.sk-parallel-item::after {content: \"\";width: 100%;border-bottom: 1px solid gray;flex-grow: 1;}#sk-container-id-1 div.sk-label:hover label.sk-toggleable__label {background-color: #d4ebff;}#sk-container-id-1 div.sk-serial::before {content: \"\";position: absolute;border-left: 1px solid gray;box-sizing: border-box;top: 0;bottom: 0;left: 50%;z-index: 0;}#sk-container-id-1 div.sk-serial {display: flex;flex-direction: column;align-items: center;background-color: white;padding-right: 0.2em;padding-left: 0.2em;position: relative;}#sk-container-id-1 div.sk-item {position: relative;z-index: 1;}#sk-container-id-1 div.sk-parallel {display: flex;align-items: stretch;justify-content: center;background-color: white;position: relative;}#sk-container-id-1 div.sk-item::before, #sk-container-id-1 div.sk-parallel-item::before {content: \"\";position: absolute;border-left: 1px solid gray;box-sizing: border-box;top: 0;bottom: 0;left: 50%;z-index: -1;}#sk-container-id-1 div.sk-parallel-item {display: flex;flex-direction: column;z-index: 1;position: relative;background-color: white;}#sk-container-id-1 div.sk-parallel-item:first-child::after {align-self: flex-end;width: 50%;}#sk-container-id-1 div.sk-parallel-item:last-child::after {align-self: flex-start;width: 50%;}#sk-container-id-1 div.sk-parallel-item:only-child::after {width: 0;}#sk-container-id-1 div.sk-dashed-wrapped {border: 1px dashed gray;margin: 0 0.4em 0.5em 0.4em;box-sizing: border-box;padding-bottom: 0.4em;background-color: white;}#sk-container-id-1 div.sk-label label {font-family: monospace;font-weight: bold;display: inline-block;line-height: 1.2em;}#sk-container-id-1 div.sk-label-container {text-align: center;}#sk-container-id-1 div.sk-container {/* jupyter's `normalize.less` sets `[hidden] { display: none; }` but bootstrap.min.css set `[hidden] { display: none !important; }` so we also need the `!important` here to be able to override the default hidden behavior on the sphinx rendered scikit-learn.org. See: https://github.com/scikit-learn/scikit-learn/issues/21755 */display: inline-block !important;position: relative;}#sk-container-id-1 div.sk-text-repr-fallback {display: none;}</style><div id=\"sk-container-id-1\" class=\"sk-top-container\"><div class=\"sk-text-repr-fallback\"><pre>KMeans(n_clusters=3)</pre><b>In a Jupyter environment, please rerun this cell to show the HTML representation or trust the notebook. <br />On GitHub, the HTML representation is unable to render, please try loading this page with nbviewer.org.</b></div><div class=\"sk-container\" hidden><div class=\"sk-item\"><div class=\"sk-estimator sk-toggleable\"><input class=\"sk-toggleable__control sk-hidden--visually\" id=\"sk-estimator-id-1\" type=\"checkbox\" checked><label for=\"sk-estimator-id-1\" class=\"sk-toggleable__label sk-toggleable__label-arrow\">KMeans</label><div class=\"sk-toggleable__content\"><pre>KMeans(n_clusters=3)</pre></div></div></div></div></div>"
      ],
      "text/plain": [
       "KMeans(n_clusters=3)"
      ]
     },
     "execution_count": 34,
     "metadata": {},
     "output_type": "execute_result"
    }
   ],
   "source": [
    "#Number of clusters\n",
    "k = 3\n",
    "\n",
    "#Initialize the KMeans model\n",
    "kmeans = KMeans(n_clusters=k)\n",
    "kmeans.fit(data)"
   ]
  },
  {
   "cell_type": "code",
   "execution_count": 47,
   "id": "18ed0ea7",
   "metadata": {},
   "outputs": [
    {
     "data": {
      "text/plain": [
       "array([[0.68895772, 0.79722906],\n",
       "       [0.69888311, 0.21407669],\n",
       "       [0.16331701, 0.49596417]])"
      ]
     },
     "execution_count": 47,
     "metadata": {},
     "output_type": "execute_result"
    }
   ],
   "source": [
    "centers = kmeans.cluster_centers_ \n",
    "centers"
   ]
  },
  {
   "cell_type": "code",
   "execution_count": 48,
   "id": "59d91ff3",
   "metadata": {},
   "outputs": [
    {
     "data": {
      "text/plain": [
       "array([2, 2, 2, 2, 2, 0, 0, 2, 1, 0, 1, 1, 2, 1, 2, 1, 0, 2, 2, 2, 2, 0,\n",
       "       0, 0, 1, 2, 2, 2, 2, 1, 2, 1, 1, 2, 1, 1, 0, 1, 1, 2, 0, 1, 0, 2,\n",
       "       2, 2, 0, 0, 0, 2, 2, 0, 2, 0, 2, 0, 0, 2, 0, 1, 0, 0, 0, 0, 0, 1,\n",
       "       2, 0, 1, 0, 1, 2, 2, 1, 2, 0, 1, 1, 0, 1, 1, 2, 0, 1, 2, 1, 1, 0,\n",
       "       0, 0, 0, 1, 2, 2, 1, 1, 2, 1, 0, 0])"
      ]
     },
     "execution_count": 48,
     "metadata": {},
     "output_type": "execute_result"
    }
   ],
   "source": [
    "labels = kmeans.labels_\n",
    "labels"
   ]
  },
  {
   "cell_type": "code",
   "execution_count": 51,
   "id": "13d0bd3e",
   "metadata": {},
   "outputs": [
    {
     "data": {
      "text/plain": [
       "<matplotlib.collections.PathCollection at 0x29af96bf590>"
      ]
     },
     "execution_count": 51,
     "metadata": {},
     "output_type": "execute_result"
    },
    {
     "data": {
      "image/png": "[encoded data removed]",
      "text/plain": [
       "<Figure size 640x480 with 1 Axes>"
      ]
     },
     "metadata": {},
     "output_type": "display_data"
    }
   ],
   "source": [
    "plt.scatter(centers[:,0],centers[:,1],marker = \"X\",s=100)\n",
    "plt.scatter(data[:,0],data[:,1],c=labels,cmap='viridis')"
   ]
  },
  {
   "cell_type": "code",
   "execution_count": null,
   "id": "d8efe725",
   "metadata": {},
   "outputs": [],
   "source": []
  }
 ],
 "metadata": {
  "kernelspec": {
   "display_name": "Python 3 (ipykernel)",
   "language": "python",
   "name": "python3"
  },
  "language_info": {
   "codemirror_mode": {
    "name": "ipython",
    "version": 3
   },
   "file_extension": ".py",
   "mimetype": "text/x-python",
   "name": "python",
   "nbconvert_exporter": "python",
   "pygments_lexer": "ipython3",
   "version": "3.11.3"
  }
 },
 "nbformat": 4,
 "nbformat_minor": 5
}
