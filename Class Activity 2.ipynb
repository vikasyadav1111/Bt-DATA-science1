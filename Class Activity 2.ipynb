{
 "cells": [
  {
   "cell_type": "code",
   "execution_count": 1,
   "id": "a12c4d86",
   "metadata": {},
   "outputs": [],
   "source": [
    "import pandas as pd"
   ]
  },
  {
   "cell_type": "code",
   "execution_count": 2,
   "id": "45487f57",
   "metadata": {
    "scrolled": true
   },
   "outputs": [
    {
     "name": "stdout",
     "output_type": "stream",
     "text": [
      "     sepal_length  sepal_width  petal_length  petal_width         species\n",
      "0             5.1          3.5           1.4          0.2     Iris-setosa\n",
      "1             4.9          3.0           1.4          0.2     Iris-setosa\n",
      "2             4.7          3.2           1.3          0.2     Iris-setosa\n",
      "3             4.6          3.1           1.5          0.2     Iris-setosa\n",
      "4             5.0          3.6           1.4          0.2     Iris-setosa\n",
      "..            ...          ...           ...          ...             ...\n",
      "145           6.7          3.0           5.2          2.3  Iris-virginica\n",
      "146           6.3          2.5           5.0          1.9  Iris-virginica\n",
      "147           6.5          3.0           5.2          2.0  Iris-virginica\n",
      "148           6.2          3.4           5.4          2.3  Iris-virginica\n",
      "149           5.9          3.0           5.1          1.8  Iris-virginica\n",
      "\n",
      "[150 rows x 5 columns]\n"
     ]
    }
   ],
   "source": [
    "data = pd.read_csv('IRIS.csv')\n",
    "print(data)"
   ]
  },
  {
   "cell_type": "code",
   "execution_count": 4,
   "id": "39e65a4b",
   "metadata": {},
   "outputs": [
    {
     "name": "stdout",
     "output_type": "stream",
     "text": [
      "     sepal_length  sepal_width\n",
      "0             5.1          3.5\n",
      "1             4.9          3.0\n",
      "2             4.7          3.2\n",
      "3             4.6          3.1\n",
      "4             5.0          3.6\n",
      "..            ...          ...\n",
      "145           6.7          3.0\n",
      "146           6.3          2.5\n",
      "147           6.5          3.0\n",
      "148           6.2          3.4\n",
      "149           5.9          3.0\n",
      "\n",
      "[150 rows x 2 columns]\n"
     ]
    }
   ],
   "source": [
    "selected_columns = data[['sepal_length','sepal_width']]\n",
    "print(selected_columns)"
   ]
  },
  {
   "cell_type": "code",
   "execution_count": 5,
   "id": "67a1a227",
   "metadata": {},
   "outputs": [
    {
     "name": "stdout",
     "output_type": "stream",
     "text": [
      "     sepal_length  sepal_width  petal_length  petal_width         species\n",
      "0             5.1          3.5           1.4          0.2     Iris-setosa\n",
      "5             5.4          3.9           1.7          0.4     Iris-setosa\n",
      "10            5.4          3.7           1.5          0.2     Iris-setosa\n",
      "14            5.8          4.0           1.2          0.2     Iris-setosa\n",
      "15            5.7          4.4           1.5          0.4     Iris-setosa\n",
      "..            ...          ...           ...          ...             ...\n",
      "145           6.7          3.0           5.2          2.3  Iris-virginica\n",
      "146           6.3          2.5           5.0          1.9  Iris-virginica\n",
      "147           6.5          3.0           5.2          2.0  Iris-virginica\n",
      "148           6.2          3.4           5.4          2.3  Iris-virginica\n",
      "149           5.9          3.0           5.1          1.8  Iris-virginica\n",
      "\n",
      "[118 rows x 5 columns]\n"
     ]
    }
   ],
   "source": [
    "filtered_data = data[data['sepal_length']>5]\n",
    "print(filtered_data)"
   ]
  },
  {
   "cell_type": "code",
   "execution_count": 18,
   "id": "44683c2c",
   "metadata": {},
   "outputs": [
    {
     "name": "stdout",
     "output_type": "stream",
     "text": [
      "species\n",
      "Iris-setosa        250.3\n",
      "Iris-versicolor    296.8\n",
      "Iris-virginica     329.4\n",
      "Name: sepal_length, dtype: float64\n"
     ]
    }
   ],
   "source": [
    "grouped_data = data.groupby('species')['sepal_length'].sum()\n",
    "print(grouped_data)"
   ]
  },
  {
   "cell_type": "code",
   "execution_count": 26,
   "id": "03492ec3",
   "metadata": {},
   "outputs": [
    {
     "name": "stdout",
     "output_type": "stream",
     "text": [
      "      sepal_length_x  sepal_width  petal_length_x  petal_width_x  \\\n",
      "0                5.1          3.5             1.4            0.2   \n",
      "1                5.1          3.5             1.4            0.2   \n",
      "2                5.1          3.5             1.4            0.2   \n",
      "3                5.1          3.5             1.4            0.2   \n",
      "4                5.1          3.5             1.4            0.2   \n",
      "...              ...          ...             ...            ...   \n",
      "1763             6.1          2.6             5.6            1.4   \n",
      "1764             6.1          2.6             5.6            1.4   \n",
      "1765             6.1          2.6             5.6            1.4   \n",
      "1766             6.1          2.6             5.6            1.4   \n",
      "1767             6.1          2.6             5.6            1.4   \n",
      "\n",
      "           species_x  sepal_length_y  petal_length_y  petal_width_y  \\\n",
      "0        Iris-setosa             5.1             1.4            0.2   \n",
      "1        Iris-setosa             5.1             1.4            0.3   \n",
      "2        Iris-setosa             5.2             1.5            0.2   \n",
      "3        Iris-setosa             5.5             1.3            0.2   \n",
      "4        Iris-setosa             5.0             1.3            0.3   \n",
      "...              ...             ...             ...            ...   \n",
      "1763  Iris-virginica             5.7             3.5            1.0   \n",
      "1764  Iris-virginica             5.5             4.4            1.2   \n",
      "1765  Iris-virginica             5.8             4.0            1.2   \n",
      "1766  Iris-virginica             7.7             6.9            2.3   \n",
      "1767  Iris-virginica             6.1             5.6            1.4   \n",
      "\n",
      "            species_y  \n",
      "0         Iris-setosa  \n",
      "1         Iris-setosa  \n",
      "2         Iris-setosa  \n",
      "3         Iris-setosa  \n",
      "4         Iris-setosa  \n",
      "...               ...  \n",
      "1763  Iris-versicolor  \n",
      "1764  Iris-versicolor  \n",
      "1765  Iris-versicolor  \n",
      "1766   Iris-virginica  \n",
      "1767   Iris-virginica  \n",
      "\n",
      "[1768 rows x 9 columns]\n"
     ]
    }
   ],
   "source": [
    "data1 = pd.read_csv('IRIS.csv')\n",
    "data2 = pd.read_csv('IRIS.csv')\n",
    "merged_data = pd.merge(data1,data2,on='sepal_width')\n",
    "print(merged_data)"
   ]
  },
  {
   "cell_type": "code",
   "execution_count": 28,
   "id": "628c3d99",
   "metadata": {},
   "outputs": [
    {
     "name": "stdout",
     "output_type": "stream",
     "text": [
      "<class 'pandas.core.frame.DataFrame'>\n",
      "RangeIndex: 150 entries, 0 to 149\n",
      "Data columns (total 5 columns):\n",
      " #   Column        Non-Null Count  Dtype  \n",
      "---  ------        --------------  -----  \n",
      " 0   sepal_length  150 non-null    float64\n",
      " 1   sepal_width   150 non-null    float64\n",
      " 2   petal_length  150 non-null    float64\n",
      " 3   petal_width   150 non-null    float64\n",
      " 4   species       150 non-null    object \n",
      "dtypes: float64(4), object(1)\n",
      "memory usage: 6.0+ KB\n"
     ]
    }
   ],
   "source": [
    "data.info()"
   ]
  },
  {
   "cell_type": "code",
   "execution_count": 29,
   "id": "97d75bd6",
   "metadata": {},
   "outputs": [
    {
     "name": "stdout",
     "output_type": "stream",
     "text": [
      "     sepal_length  sepal_width  petal_length  petal_width         species\n",
      "0             5.1          3.5           1.4          0.2     Iris-setosa\n",
      "1             4.9          3.0           1.4          0.2     Iris-setosa\n",
      "2             4.7          3.2           1.3          0.2     Iris-setosa\n",
      "3             4.6          3.1           1.5          0.2     Iris-setosa\n",
      "4             5.0          3.6           1.4          0.2     Iris-setosa\n",
      "..            ...          ...           ...          ...             ...\n",
      "145           6.7          3.0           5.2          2.3  Iris-virginica\n",
      "146           6.3          2.5           5.0          1.9  Iris-virginica\n",
      "147           6.5          3.0           5.2          2.0  Iris-virginica\n",
      "148           6.2          3.4           5.4          2.3  Iris-virginica\n",
      "149           5.9          3.0           5.1          1.8  Iris-virginica\n",
      "\n",
      "[150 rows x 5 columns]\n"
     ]
    }
   ],
   "source": [
    "data.fillna(0,inplace=True)\n",
    "print(data)"
   ]
  },
  {
   "cell_type": "code",
   "execution_count": 41,
   "id": "19cee884",
   "metadata": {},
   "outputs": [
    {
     "name": "stdout",
     "output_type": "stream",
     "text": [
      "     sepal_length  sepal_width  petal_length  petal_width         species  \\\n",
      "0             5.1          3.5           1.4          0.2     Iris-setosa   \n",
      "1             4.9          3.0           1.4          0.2     Iris-setosa   \n",
      "2             4.7          3.2           1.3          0.2     Iris-setosa   \n",
      "3             4.6          3.1           1.5          0.2     Iris-setosa   \n",
      "4             5.0          3.6           1.4          0.2     Iris-setosa   \n",
      "..            ...          ...           ...          ...             ...   \n",
      "145           6.7          3.0           5.2          2.3  Iris-virginica   \n",
      "146           6.3          2.5           5.0          1.9  Iris-virginica   \n",
      "147           6.5          3.0           5.2          2.0  Iris-virginica   \n",
      "148           6.2          3.4           5.4          2.3  Iris-virginica   \n",
      "149           5.9          3.0           5.1          1.8  Iris-virginica   \n",
      "\n",
      "     processed_column  \n",
      "0                10.2  \n",
      "1                 9.8  \n",
      "2                 9.4  \n",
      "3                 9.2  \n",
      "4                10.0  \n",
      "..                ...  \n",
      "145              13.4  \n",
      "146              12.6  \n",
      "147              13.0  \n",
      "148              12.4  \n",
      "149              11.8  \n",
      "\n",
      "[150 rows x 6 columns]\n"
     ]
    }
   ],
   "source": [
    "def process_value(value):\n",
    "    processed_value = value*2\n",
    "    return processed_value\n",
    "data['processed_column'] = data['sepal_length'].apply(process_value)\n",
    "print(data)"
   ]
  },
  {
   "cell_type": "code",
   "execution_count": 43,
   "id": "ea3a5f3f",
   "metadata": {},
   "outputs": [
    {
     "name": "stdout",
     "output_type": "stream",
     "text": [
      "species      Iris-setosa  Iris-versicolor  Iris-virginica\n",
      "sepal_width                                              \n",
      "2.0                  NaN         5.000000             NaN\n",
      "2.2                  NaN         6.100000        6.000000\n",
      "2.3             4.500000         5.600000             NaN\n",
      "2.4                  NaN         5.300000             NaN\n",
      "2.5                  NaN         5.625000        5.900000\n",
      "2.6                  NaN         5.666667        6.900000\n",
      "2.7                  NaN         5.680000        6.075000\n",
      "2.8                  NaN         6.150000        6.475000\n",
      "2.9             4.400000         6.085714        6.800000\n",
      "3.0             4.700000         5.950000        6.716667\n",
      "3.1             4.820000         6.766667        6.725000\n",
      "3.2             4.680000         6.433333        6.760000\n",
      "3.3             5.050000         6.300000        6.566667\n",
      "3.4             5.033333         6.000000        6.250000\n",
      "3.5             5.150000              NaN             NaN\n",
      "3.6             4.800000              NaN        7.200000\n",
      "3.7             5.266667              NaN             NaN\n",
      "3.8             5.250000              NaN        7.800000\n",
      "3.9             5.400000              NaN             NaN\n",
      "4.0             5.800000              NaN             NaN\n",
      "4.1             5.200000              NaN             NaN\n",
      "4.2             5.500000              NaN             NaN\n",
      "4.4             5.700000              NaN             NaN\n"
     ]
    }
   ],
   "source": [
    "pivot_table = pd.pivot_table(data,values='sepal_length',index='sepal_width',columns='species')\n",
    "print(pivot_table)"
   ]
  },
  {
   "cell_type": "code",
   "execution_count": 47,
   "id": "8198b531",
   "metadata": {},
   "outputs": [
    {
     "name": "stdout",
     "output_type": "stream",
     "text": [
      "             sepal_length  sepal_width  petal_length  petal_width  \\\n",
      "date_column                                                         \n",
      "1970-01-31          876.5        458.1         563.8        179.8   \n",
      "\n",
      "             processed_column  \n",
      "date_column                    \n",
      "1970-01-31             1753.0  \n"
     ]
    },
    {
     "name": "stderr",
     "output_type": "stream",
     "text": [
      "C:\\Users\\USER\\AppData\\Local\\Temp\\ipykernel_3864\\688559514.py:3: FutureWarning: The default value of numeric_only in DataFrameGroupBy.sum is deprecated. In a future version, numeric_only will default to False. Either specify numeric_only or select only columns which should be valid for the function.\n",
      "  resampled_data = data.resample('M').sum()\n"
     ]
    }
   ],
   "source": [
    "data['date_column'] = pd.to_datetime(data['sepal_length'])\n",
    "data.set_index('date_column',inplace=True)\n",
    "resampled_data = data.resample('M').sum()\n",
    "print(resampled_data)"
   ]
  },
  {
   "cell_type": "code",
   "execution_count": 46,
   "id": "d2d469ef",
   "metadata": {},
   "outputs": [
    {
     "name": "stdout",
     "output_type": "stream",
     "text": [
      "[1 2 3 4 5]\n",
      "Sum  15\n",
      "Mean  3.0\n",
      "Max  5\n",
      "Min  1\n"
     ]
    }
   ],
   "source": [
    "import numpy as np\n",
    "arr = np.array([1,2,3,4,5])\n",
    "print(arr)\n",
    "print(\"Sum \", np.sum(arr))\n",
    "print(\"Mean \",np.mean(arr))\n",
    "print(\"Max \",np.max(arr))\n",
    "print(\"Min \",np.min(arr))"
   ]
  },
  {
   "cell_type": "code",
   "execution_count": 50,
   "id": "f01552f4",
   "metadata": {},
   "outputs": [
    {
     "name": "stdout",
     "output_type": "stream",
     "text": [
      "[[1 2 3]\n",
      " [4 5 6]]\n"
     ]
    }
   ],
   "source": [
    "arr1 = np.array([1,2,3,4,5,6])\n",
    "reshaped_arr = arr1.reshape(2,3)\n",
    "print(reshaped_arr)"
   ]
  },
  {
   "cell_type": "code",
   "execution_count": 56,
   "id": "4fdda9ce",
   "metadata": {},
   "outputs": [
    {
     "name": "stdout",
     "output_type": "stream",
     "text": [
      "[[0.85376724 0.54744441 0.90808516]\n",
      " [0.22034774 0.80733175 0.21921334]\n",
      " [0.77625176 0.31815754 0.21127992]]\n"
     ]
    }
   ],
   "source": [
    "arr2 = np.random.random((3,3))\n",
    "print(arr2)"
   ]
  },
  {
   "cell_type": "code",
   "execution_count": 57,
   "id": "e2329ad5",
   "metadata": {},
   "outputs": [
    {
     "name": "stdout",
     "output_type": "stream",
     "text": [
      "[5 7 9]\n"
     ]
    }
   ],
   "source": [
    "arr3 = np.array([1,2,3])\n",
    "arr4 = np.array([4,5,6])\n",
    "print(arr3+arr4)"
   ]
  },
  {
   "cell_type": "code",
   "execution_count": 58,
   "id": "183af8c2",
   "metadata": {},
   "outputs": [
    {
     "name": "stdout",
     "output_type": "stream",
     "text": [
      "[[1 2 3]\n",
      " [4 5 6]\n",
      " [7 8 9]]\n"
     ]
    }
   ],
   "source": [
    "arr5 = np.array([[1,2,3],[4,5,6],[7,8,9]])\n",
    "print(arr5)"
   ]
  },
  {
   "cell_type": "code",
   "execution_count": 61,
   "id": "e2ebc687",
   "metadata": {},
   "outputs": [
    {
     "name": "stdout",
     "output_type": "stream",
     "text": [
      "[12 15 18]\n",
      "[ 6 15 24]\n"
     ]
    }
   ],
   "source": [
    "sum_along_rows = np.sum(arr5,axis=0)\n",
    "sum_along_columns = np.sum(arr5,axis=1)\n",
    "print(sum_along_rows)\n",
    "print(sum_along_columns)"
   ]
  },
  {
   "cell_type": "code",
   "execution_count": 62,
   "id": "46bfdcf3",
   "metadata": {},
   "outputs": [
    {
     "name": "stdout",
     "output_type": "stream",
     "text": [
      "2\n",
      "[3 4 5]\n"
     ]
    }
   ],
   "source": [
    "#Masking is a way of hiding elements in an array\n",
    "arr6 = np.array([1,2,3,4,5])\n",
    "print(arr6[1])\n",
    "mask = arr > 2\n",
    "filtered_arr = arr6[mask]\n",
    "print(filtered_arr)"
   ]
  },
  {
   "cell_type": "code",
   "execution_count": 66,
   "id": "6fb33441",
   "metadata": {},
   "outputs": [
    {
     "name": "stdout",
     "output_type": "stream",
     "text": [
      "[1 2 3 4 5]\n",
      "[0 2 2 3 4 1]\n"
     ]
    }
   ],
   "source": [
    "arr7 = np.array([1,1,2,2,3,3,3,4,4,4,4,5])\n",
    "unique_element = np.unique(arr7)\n",
    "element_occur = np.bincount(arr7)\n",
    "print(unique_element)\n",
    "print(element_occur)"
   ]
  },
  {
   "cell_type": "code",
   "execution_count": 68,
   "id": "becfcc3c",
   "metadata": {},
   "outputs": [
    {
     "name": "stdout",
     "output_type": "stream",
     "text": [
      "Slope:  0.6000000000000002\n",
      "Intercept:  2.1999999999999993\n"
     ]
    }
   ],
   "source": [
    "x = np.array([1,2,3,4,5])\n",
    "y = np.array([2,4,5,4,5])\n",
    "coefficients = np.polyfit(x,y,1)\n",
    "slope,intercept = coefficients\n",
    "print(\"Slope: \",slope)\n",
    "print(\"Intercept: \",intercept)"
   ]
  },
  {
   "cell_type": "code",
   "execution_count": null,
   "id": "64587c9e",
   "metadata": {},
   "outputs": [],
   "source": []
  }
 ],
 "metadata": {
  "kernelspec": {
   "display_name": "Python 3 (ipykernel)",
   "language": "python",
   "name": "python3"
  },
  "language_info": {
   "codemirror_mode": {
    "name": "ipython",
    "version": 3
   },
   "file_extension": ".py",
   "mimetype": "text/x-python",
   "name": "python",
   "nbconvert_exporter": "python",
   "pygments_lexer": "ipython3",
   "version": "3.11.3"
  }
 },
 "nbformat": 4,
 "nbformat_minor": 5
}
