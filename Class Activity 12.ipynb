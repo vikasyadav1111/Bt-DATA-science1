{
 "cells": [
  {
   "cell_type": "markdown",
   "id": "4c186f46",
   "metadata": {},
   "source": [
    "# ChatBot using NLTK"
   ]
  },
  {
   "cell_type": "code",
   "execution_count": 1,
   "id": "a74be912",
   "metadata": {},
   "outputs": [],
   "source": [
    "import tkinter as tk\n",
    "from tkinter import scrolledtext\n",
    "from nltk.tokenize import word_tokenize\n",
    "from sklearn.feature_extraction.text import CountVectorizer\n",
    "from sklearn.metrics.pairwise import cosine_similarity"
   ]
  },
  {
   "cell_type": "code",
   "execution_count": 2,
   "id": "7b330814",
   "metadata": {},
   "outputs": [],
   "source": [
    "patterns = [\"Hello ?\",\"How are you ?\",\"What is your gender ?\"]"
   ]
  },
  {
   "cell_type": "code",
   "execution_count": 8,
   "id": "7400605e",
   "metadata": {},
   "outputs": [],
   "source": [
    "responses = [\n",
    "    \"Hello\",\"I am great\",\"Prefer not to say\"\n",
    "]"
   ]
  },
  {
   "cell_type": "code",
   "execution_count": 4,
   "id": "15f74e93",
   "metadata": {},
   "outputs": [
    {
     "data": {
      "text/plain": [
       "<3x8 sparse matrix of type '<class 'numpy.int64'>'\n",
       "\twith 8 stored elements in Compressed Sparse Row format>"
      ]
     },
     "execution_count": 4,
     "metadata": {},
     "output_type": "execute_result"
    }
   ],
   "source": [
    "#Create a Bag-of-Words model\n",
    "vectorizer = CountVectorizer()\n",
    "X = vectorizer.fit_transform(patterns)\n",
    "X"
   ]
  },
  {
   "cell_type": "code",
   "execution_count": 9,
   "id": "6f615048",
   "metadata": {},
   "outputs": [],
   "source": [
    "#Function to get the chatbot response\n",
    "\n",
    "def get_response():\n",
    "    user_message = input_text.get(\"1.0\",\"end-1c\")\n",
    "    user_message_vector = vectorizer.transform([user_message])\n",
    "    similarities = cosine_similarity(user_message_vector,X)\n",
    "    most_similar_index = similarities.argmax()\n",
    "    if similarities[0][most_similar_index] > 0:\n",
    "        response = responses[most_similar_index]\n",
    "    else:\n",
    "        response = \"I'm sorry, I don't understand.\"\n",
    "    output_text.insert(tk.END, f\"Chat: {response}\\n\")\n",
    "    input_text.delete(\"1.0\",tk.END)\n",
    "    \n",
    "# Create the main window\n",
    "root = tk.Tk()\n",
    "root.title(\"NLP Basic ChatBot\")\n",
    "\n",
    "# Create and place widgets\n",
    "input_text = scrolledtext.ScrolledText(root, wrap=tk.WORD, width=40, height=5)\n",
    "input_text.pack(padx=10, pady=10)\n",
    "\n",
    "send_button = tk.Button(root, text=\"Send\",command=get_response)\n",
    "send_button.pack()\n",
    "\n",
    "output_text = scrolledtext.ScrolledText(root, wrap=tk.WORD, width=40, height=10)\n",
    "output_text.pack(padx=10, pady=10)\n",
    "\n",
    "root.mainloop()"
   ]
  },
  {
   "cell_type": "markdown",
   "id": "fe404ed1",
   "metadata": {},
   "source": [
    "# ChatBot using TextBlob"
   ]
  },
  {
   "cell_type": "code",
   "execution_count": 13,
   "id": "7fd40233",
   "metadata": {},
   "outputs": [
    {
     "name": "stdout",
     "output_type": "stream",
     "text": [
      "Chatbot: Hello! How can I assist you? (Type 'bye' to exit)\n",
      "You: Hi\n",
      "Chatbot: Hello! How can I assist you?\n",
      "You: How are you?\n",
      "Chatbot: I'm sorry, I don't understand. Can you rephrase?\n",
      "You: how are you\n",
      "Chatbot: I'm sorry, I don't understand. Can you rephrase?\n",
      "You: bye\n",
      "Chatbot: Goodbye! Have a great day!\n"
     ]
    }
   ],
   "source": [
    "from textblob import TextBlob\n",
    "\n",
    "#Define some example patterns and responses\n",
    "patterns_responses = {\n",
    "    \"hi\":\"Hello! How can I assist you?\",\n",
    "    \"how are you\": \"Hello, I'm here to help!\",\n",
    "    \"bye\":\"Goodbye! Have a great day!\"\n",
    "}\n",
    "\n",
    "def chatbot_response(user_input):\n",
    "    #Create a TextBlob object for the user input\n",
    "    blob = TextBlob(user_input.lower())\n",
    "    \n",
    "    #Check for patterns in the user input\n",
    "    for pattern, response in patterns_responses.items():\n",
    "        if pattern in blob.words:\n",
    "            return response\n",
    "        \n",
    "    return \"I'm sorry, I don't understand. Can you rephrase?\"\n",
    "\n",
    "#Chatbot loop\n",
    "print(\"Chatbot: Hello! How can I assist you? (Type 'bye' to exit)\")\n",
    "while True:\n",
    "    user_input = input(\"You: \")\n",
    "    if user_input.lower() == 'bye':\n",
    "        print(\"Chatbot: Goodbye! Have a great day!\")\n",
    "        break\n",
    "    response = chatbot_response(user_input)\n",
    "    print(\"Chatbot:\",response)\n",
    "    "
   ]
  },
  {
   "cell_type": "code",
   "execution_count": 14,
   "id": "ff90166e",
   "metadata": {},
   "outputs": [],
   "source": [
    "import nltk\n",
    "from nltk.tokenize import word_tokenize, sent_tokenize\n",
    "from nltk.corpus import stopwords\n",
    "from textblob import TextBlob"
   ]
  },
  {
   "cell_type": "code",
   "execution_count": 15,
   "id": "c61856be",
   "metadata": {},
   "outputs": [
    {
     "name": "stderr",
     "output_type": "stream",
     "text": [
      "[nltk_data] Downloading package punkt to\n",
      "[nltk_data]     C:\\Users\\USER\\AppData\\Roaming\\nltk_data...\n",
      "[nltk_data]   Package punkt is already up-to-date!\n",
      "[nltk_data] Downloading package averaged_perceptron_tagger to\n",
      "[nltk_data]     C:\\Users\\USER\\AppData\\Roaming\\nltk_data...\n",
      "[nltk_data]   Unzipping taggers\\averaged_perceptron_tagger.zip.\n",
      "[nltk_data] Downloading package stopwords to\n",
      "[nltk_data]     C:\\Users\\USER\\AppData\\Roaming\\nltk_data...\n",
      "[nltk_data]   Package stopwords is already up-to-date!\n"
     ]
    },
    {
     "data": {
      "text/plain": [
       "True"
      ]
     },
     "execution_count": 15,
     "metadata": {},
     "output_type": "execute_result"
    }
   ],
   "source": [
    "#Download NLTK data (if not already downloaded)\n",
    "nltk.download('punkt')\n",
    "nltk.download('averaged_perceptron_tagger')\n",
    "nltk.download('stopwords')"
   ]
  },
  {
   "cell_type": "code",
   "execution_count": 19,
   "id": "f27f9992",
   "metadata": {},
   "outputs": [
    {
     "name": "stdout",
     "output_type": "stream",
     "text": [
      "Original Text:\n",
      "Natural language processing is a field of artificial intelligence that deals with interaction between computers and humans using natural language.\n",
      "\n",
      "Tokenized Words:\n",
      "['Natural', 'language', 'processing', 'is', 'a', 'field', 'of', 'artificial', 'intelligence', 'that', 'deals', 'with', 'interaction', 'between', 'computers', 'and', 'humans', 'using', 'natural', 'language', '.']\n",
      "\n",
      "Sentences:\n",
      "['Natural language processing is a field of artificial intelligence that deals with interaction between computers and humans using natural language.']\n",
      "\n",
      "Part-of-Speech Tags:\n",
      "[('Natural', 'JJ'), ('language', 'NN'), ('processing', 'NN'), ('is', 'VBZ'), ('a', 'DT'), ('field', 'NN'), ('of', 'IN'), ('artificial', 'JJ'), ('intelligence', 'NN'), ('that', 'IN'), ('deals', 'NNS'), ('with', 'IN'), ('interaction', 'NN'), ('between', 'IN'), ('computers', 'NNS'), ('and', 'CC'), ('humans', 'NNS'), ('using', 'VBG'), ('natural', 'JJ'), ('language', 'NN'), ('.', '.')]\n",
      "\n",
      "Sentiment Score: -0.13333333333333333\n"
     ]
    }
   ],
   "source": [
    "#Sample text\n",
    "text = \"Natural language processing is a field of artificial intelligence that deals with interaction between computers and humans using natural language.\"\n",
    "\n",
    "# Tokenization using NLTK\n",
    "words = word_tokenize(text)\n",
    "sentences = sent_tokenize(text)\n",
    "\n",
    "# Part-of-speech tagging using NLTK\n",
    "pos_tags = nltk.pos_tag(words)\n",
    "\n",
    "#Sentiment analysis usign TextBlob\n",
    "blob = TextBlob(text)\n",
    "sentiment_score = blob.sentiment.polarity\n",
    "\n",
    "#Display results\n",
    "print(\"Original Text:\")\n",
    "print(text)\n",
    "print(\"\\nTokenized Words:\")\n",
    "print(words)\n",
    "print(\"\\nSentences:\")\n",
    "print(sentences)\n",
    "print(\"\\nPart-of-Speech Tags:\")\n",
    "print(pos_tags)\n",
    "print(\"\\nSentiment Score:\",sentiment_score)"
   ]
  },
  {
   "cell_type": "code",
   "execution_count": 17,
   "id": "6f863db3",
   "metadata": {},
   "outputs": [
    {
     "name": "stdout",
     "output_type": "stream",
     "text": [
      "\n",
      "Filtered Words (Without stopwords):\n",
      "['Natural', 'language', 'processing', 'field', 'artificial', 'intelligence', 'deals', 'interaction', 'computers', 'humans', 'using', 'natural', 'language', '.']\n"
     ]
    }
   ],
   "source": [
    "# Filtering stopwords using NLTK\n",
    "stop_words = set(stopwords.words(\"english\"))\n",
    "filtered_words = [word for word in words if word.lower() not in stop_words]\n",
    "print(\"\\nFiltered Words (Without stopwords):\")\n",
    "print(filtered_words)"
   ]
  },
  {
   "cell_type": "markdown",
   "id": "277bba72",
   "metadata": {},
   "source": [
    "# Image Filter"
   ]
  },
  {
   "cell_type": "code",
   "execution_count": 20,
   "id": "76f41e18",
   "metadata": {},
   "outputs": [],
   "source": [
    "from PIL import Image, ImageFilter"
   ]
  },
  {
   "cell_type": "code",
   "execution_count": 22,
   "id": "a5dd2632",
   "metadata": {},
   "outputs": [],
   "source": [
    "#Open an image using Pillow\n",
    "image_path = \"D:/Python Programs/Images/1.jpg\"\n",
    "original_image = Image.open(image_path)"
   ]
  },
  {
   "cell_type": "code",
   "execution_count": 24,
   "id": "a51e4911",
   "metadata": {},
   "outputs": [
    {
     "name": "stdout",
     "output_type": "stream",
     "text": [
      "Original Image Format: JPEG\n",
      "Original Image Size: (640, 427)\n",
      "Image processed and saved to: D:/Python Programs/College Data Science training/modified_image.jpg\n"
     ]
    }
   ],
   "source": [
    "#Display some information about the image\n",
    "print(\"Original Image Format:\",original_image.format)\n",
    "print(\"Original Image Size:\",original_image.size)\n",
    "\n",
    "#Apply a Gaussian blur filter\n",
    "blurred_image = original_image.filter(ImageFilter.GaussianBlur(radius=2))\n",
    "\n",
    "#Save the modified image\n",
    "output_path = \"D:/Python Programs/College Data Science training/modified_image.jpg\"\n",
    "blurred_image.save(output_path)\n",
    "\n",
    "#Display a message\n",
    "print(\"Image processed and saved to:\",output_path)"
   ]
  },
  {
   "cell_type": "code",
   "execution_count": null,
   "id": "5a1720df",
   "metadata": {},
   "outputs": [],
   "source": []
  }
 ],
 "metadata": {
  "kernelspec": {
   "display_name": "Python 3 (ipykernel)",
   "language": "python",
   "name": "python3"
  },
  "language_info": {
   "codemirror_mode": {
    "name": "ipython",
    "version": 3
   },
   "file_extension": ".py",
   "mimetype": "text/x-python",
   "name": "python",
   "nbconvert_exporter": "python",
   "pygments_lexer": "ipython3",
   "version": "3.11.3"
  }
 },
 "nbformat": 4,
 "nbformat_minor": 5
}
